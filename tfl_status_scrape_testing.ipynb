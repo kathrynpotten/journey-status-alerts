{
 "cells": [
  {
   "cell_type": "code",
   "execution_count": 25,
   "id": "d212991d",
   "metadata": {},
   "outputs": [],
   "source": [
    "import requests\n",
    "import bs4\n",
    "\n",
    "res = requests.get(\"https://tfl.gov.uk/tube-dlr-overground/status/\")\n",
    "soup = bs4.BeautifulSoup(res.text, \"lxml\")"
   ]
  },
  {
   "cell_type": "code",
   "execution_count": 26,
   "id": "fd0e962f",
   "metadata": {},
   "outputs": [],
   "source": [
    "district_info = soup.select(\".rainbow-list-item.district\")"
   ]
  },
  {
   "cell_type": "code",
   "execution_count": 4,
   "id": "86056787",
   "metadata": {},
   "outputs": [
    {
     "name": "stdout",
     "output_type": "stream",
     "text": [
      "\n",
      "\n",
      "\n",
      "District\n",
      "\n",
      "\n",
      "\n",
      "Part suspended \n",
      "\n",
      "\n",
      " \n",
      "\n",
      "\n",
      "\n",
      "District Line: No service between Ealing Common to Ealing Broadway while the police carry out an investigation. GOOD SERVICE on the rest of the line \n",
      "\n",
      "\n",
      "\n",
      "\n",
      "Replan your journey\n",
      "\n",
      "\n",
      "Close status\n",
      "\n",
      "\n"
     ]
    }
   ],
   "source": [
    "for item in district_info:\n",
    "    print(item.text)"
   ]
  },
  {
   "cell_type": "code",
   "execution_count": 5,
   "id": "ed05decb",
   "metadata": {
    "scrolled": true
   },
   "outputs": [
    {
     "name": "stdout",
     "output_type": "stream",
     "text": [
      "   District    Part suspended         District Line: No service between Ealing Common to Ealing Broadway while the police carry out an investigation. GOOD SERVICE on the rest of the line      Replan your journey   Close status  \n"
     ]
    }
   ],
   "source": [
    "for item in district_info:\n",
    "    text = item.text.replace('\\n',' ')\n",
    "    print(text)"
   ]
  },
  {
   "cell_type": "code",
   "execution_count": 27,
   "id": "db8db149",
   "metadata": {},
   "outputs": [
    {
     "data": {
      "text/plain": [
       "'   District    Good service     '"
      ]
     },
     "execution_count": 27,
     "metadata": {},
     "output_type": "execute_result"
    }
   ],
   "source": [
    "status = []\n",
    "for item in district_info:\n",
    "    status.append(item.text.replace(\"\\n\", \" \"))\n",
    "status = status[0].split('Replan your journey')[0]\n",
    "status"
   ]
  },
  {
   "cell_type": "code",
   "execution_count": 16,
   "id": "80228e5b",
   "metadata": {},
   "outputs": [],
   "source": [
    "if 'Severe delays' in status:\n",
    "        status = 'Severe delays' + status.split(\"Severe delays\")[-1]"
   ]
  },
  {
   "cell_type": "code",
   "execution_count": 17,
   "id": "7445bbaa",
   "metadata": {},
   "outputs": [
    {
     "data": {
      "text/plain": [
       "'Severe delays Earls Court to Wimbledon due to an earlier signal failure at Wimbledon Park. GOOD SERVICE on the rest of the line. London Underground tickets will be accepted on South Western Railway and local buses.      '"
      ]
     },
     "execution_count": 17,
     "metadata": {},
     "output_type": "execute_result"
    }
   ],
   "source": [
    "status"
   ]
  },
  {
   "cell_type": "code",
   "execution_count": 6,
   "id": "9c97d034",
   "metadata": {},
   "outputs": [],
   "source": [
    "stations = [\"South Kensington\",\"Earls Court\",\"West Brompton\",\"Fulham Broadway\", \"Parsons Green\",\"Putney Bridge\",\"East Putney\",\"Southfields\",\"Wimbledon Park\",\"Wimbledon\"]"
   ]
  },
  {
   "cell_type": "code",
   "execution_count": 20,
   "id": "256c9abb",
   "metadata": {},
   "outputs": [
    {
     "name": "stdout",
     "output_type": "stream",
     "text": [
      "True\n"
     ]
    }
   ],
   "source": [
    "if any(station in status for station in stations):\n",
    "    print(True)"
   ]
  },
  {
   "cell_type": "code",
   "execution_count": 1,
   "id": "79cf351d",
   "metadata": {},
   "outputs": [],
   "source": [
    "status1 = \"District    Part suspended         District Line: No service between Ealing Common to Ealing Broadway while the police carry out an investigation. GOOD SERVICE on the rest of the line      Replan your journey   Close status  \""
   ]
  },
  {
   "cell_type": "code",
   "execution_count": 2,
   "id": "b50d2354",
   "metadata": {},
   "outputs": [],
   "source": [
    "status2 = \"District    Severe delays         District Line: Severe delays Earls Court to Wimbledon due to an earlier signal failure at Wimbledon Park. GOOD SERVICE on the rest of the line. London Underground tickets will be accepted on South Western Railway and local buses.\""
   ]
  },
  {
   "cell_type": "code",
   "execution_count": 3,
   "id": "d95815e8",
   "metadata": {},
   "outputs": [],
   "source": [
    "status3 = '   District    Good service     '"
   ]
  },
  {
   "cell_type": "code",
   "execution_count": null,
   "id": "f14fedce",
   "metadata": {},
   "outputs": [],
   "source": [
    "status4 = "
   ]
  },
  {
   "cell_type": "code",
   "execution_count": 30,
   "id": "570036c8",
   "metadata": {},
   "outputs": [
    {
     "data": {
      "text/plain": [
       "True"
      ]
     },
     "execution_count": 30,
     "metadata": {},
     "output_type": "execute_result"
    }
   ],
   "source": [
    "\"Severe delays\" in status2"
   ]
  },
  {
   "cell_type": "code",
   "execution_count": 4,
   "id": "108d2e7b",
   "metadata": {},
   "outputs": [],
   "source": [
    "def update_status(status, line, delay):\n",
    "    if any(station in status for station in stations):\n",
    "            status = status.split(\" GOOD SERVICE\")[0]\n",
    "            status = f\"{line.capitalize()} line has {delay.lower()}\" + status.split(f\"{delay}\")[-1]\n",
    "    elif \"GOOD SERVICE\" in status:\n",
    "            status = f\"{delay} on parts of {line} line. Your route has good service.\"\n",
    "    else:\n",
    "            status = f\"{delay} on parts of {line} line. Your route may be affected.\"\n",
    "    return status\n",
    "    \n",
    "\n",
    "def parse_status(status, line):\n",
    "    if \"Good service\" in status:\n",
    "        parsed_status =  f\"Good service on whole {line} line.\"\n",
    "    elif \"Severe delays\" in status:\n",
    "        delay = \"Severe delays\"\n",
    "        parsed_status = update_status(status, line, delay)\n",
    "    elif \"Minor delays\" in status:\n",
    "        delay = \"Minor delays\"\n",
    "        parsed_status = update_status(status, line, delay)\n",
    "    elif \"Part suspended\" in status:\n",
    "        delay = \"No service\"\n",
    "        parsed_status = update_status(status, line, delay)\n",
    "\n",
    "    return parsed_status"
   ]
  },
  {
   "cell_type": "code",
   "execution_count": 7,
   "id": "8752c809",
   "metadata": {},
   "outputs": [
    {
     "data": {
      "text/plain": [
       "'District line has severe delays Earls Court to Wimbledon due to an earlier signal failure at Wimbledon Park.'"
      ]
     },
     "execution_count": 7,
     "metadata": {},
     "output_type": "execute_result"
    }
   ],
   "source": [
    "parse_status(status2,\"district\")"
   ]
  },
  {
   "cell_type": "code",
   "execution_count": 8,
   "id": "e921069e",
   "metadata": {},
   "outputs": [
    {
     "data": {
      "text/plain": [
       "'No service on parts of district line. Your route has good service.'"
      ]
     },
     "execution_count": 8,
     "metadata": {},
     "output_type": "execute_result"
    }
   ],
   "source": [
    "parse_status(status1,\"district\")"
   ]
  },
  {
   "cell_type": "code",
   "execution_count": 9,
   "id": "2ba499fe",
   "metadata": {},
   "outputs": [
    {
     "data": {
      "text/plain": [
       "'Good service on whole district line.'"
      ]
     },
     "execution_count": 9,
     "metadata": {},
     "output_type": "execute_result"
    }
   ],
   "source": [
    "parse_status(status3,\"district\")"
   ]
  },
  {
   "cell_type": "code",
   "execution_count": null,
   "id": "df9951c4",
   "metadata": {},
   "outputs": [],
   "source": []
  },
  {
   "cell_type": "code",
   "execution_count": 44,
   "id": "b5ba5375",
   "metadata": {},
   "outputs": [],
   "source": [
    "import requests\n",
    "import bs4\n",
    "\n",
    "res = requests.get(\"https://tfl.gov.uk/tube-dlr-overground/status/\")\n",
    "soup = bs4.BeautifulSoup(res.text, \"lxml\")\n",
    "victoria_info = soup.select(\".rainbow-list-item.victoria\")\n",
    "status = []\n",
    "for item in victoria_info:\n",
    "    status.append(item.text.replace(\"\\n\", \" \"))"
   ]
  },
  {
   "cell_type": "code",
   "execution_count": 45,
   "id": "67d746fa",
   "metadata": {},
   "outputs": [
    {
     "data": {
      "text/plain": [
       "'   Victoria    Part suspended  Severe delays    \\xa0    Victoria Line: No service between Warren Street and Victoria while we fix a track fault at Oxford Circus. SEVERE DELAYS on the rest of the line. London Underground tickets are being accepted on London Buses, London Overground, South Eastern Trains, Great Northern, Greater Anglia and South Western Railway. Customers are advised to avoid the Victoria line due to emergency engineering work at Oxford Circus .     '"
      ]
     },
     "execution_count": 45,
     "metadata": {},
     "output_type": "execute_result"
    }
   ],
   "source": [
    "status_new = status[0].split(\"Replan your journey\")[0]\n",
    "status_new"
   ]
  },
  {
   "cell_type": "code",
   "execution_count": 46,
   "id": "389767b6",
   "metadata": {},
   "outputs": [],
   "source": [
    "import re\n",
    "\n",
    "def update_status_new(status, line, stations, delay):\n",
    "    if any(station in status for station in stations):\n",
    "        status = status.split(\" GOOD SERVICE\")[0]\n",
    "        status = (\n",
    "            f\"{line.capitalize()} line has {delay.lower()}\"\n",
    "            + status.split(f\"{delay}\")[-1]\n",
    "        )\n",
    "    elif \"GOOD SERVICE\" in status:\n",
    "        status = f\"{delay} on parts of {line} line. Your route has good service.\"\n",
    "    elif delay == \"Line suspended\":\n",
    "        status = f\"{line.capitalize()} line suspended. Find an alternative route.\"\n",
    "    else:\n",
    "        status = f\"{delay} on parts of {line} line. Your route may be affected.\"\n",
    "    return status\n",
    "\n",
    "def update_status_suspended(status, line, stations, delay):\n",
    "    if any(station in status for station in stations):\n",
    "        status = re.split(\" (MINOR|SEVERE) DELAYS\", status)[0]\n",
    "        status = status.split(f\"{line.capitalize()} Line:\")[1]\n",
    "        status = (\n",
    "            f\"{line.capitalize()} line is part suspended. \"\n",
    "            + status.split(f\"{delay}\")[-1].strip() + f\" {delay} on rest of line.\"\n",
    "        )\n",
    "    else:\n",
    "        status = f\"{line.capitalize()} line is part suspended. {delay} on rest of line. Your route may be affected.\"\n",
    "    return status\n",
    "    \n",
    "    \n",
    "def parse_status_new(status, line, stations):\n",
    "    if \"Part suspended\" in status:\n",
    "        if \"GOOD SERVICE\" in status:\n",
    "            delay = \"Good service\"\n",
    "            parsed_status = update_status_new(status, line, stations, delay)\n",
    "        elif \"MINOR DELAYS\" in status:\n",
    "            delay = \"Minor delays\"\n",
    "            parsed_status = update_status_suspended(status, line, stations, delay)\n",
    "        elif \"SEVERE DELAYS\" in status:\n",
    "            delay = \"Severe delays\"\n",
    "            parsed_status = update_status_suspended(status, line, stations, delay)\n",
    "    elif \"Severe delays\" in status:\n",
    "        delay = \"Severe delays\"\n",
    "        parsed_status = update_status_new(status, line, stations, delay)\n",
    "    elif \"Minor delays\" in status:\n",
    "        delay = \"Minor delays\"\n",
    "        parsed_status = update_status_new(status, line, stations, delay)\n",
    "    elif \"Good service\" in status:\n",
    "        parsed_status = f\"Good service on whole {line} line.\"\n",
    "    else:\n",
    "        delay = \"Line suspended\"\n",
    "        parsed_status = update_status_new(status, line, stations, delay)\n",
    "\n",
    "    return parsed_status"
   ]
  },
  {
   "cell_type": "code",
   "execution_count": 47,
   "id": "cac3ee3f",
   "metadata": {},
   "outputs": [
    {
     "name": "stdout",
     "output_type": "stream",
     "text": [
      "Victoria line is part suspended. No service between Warren Street and Victoria while we fix a track fault at Oxford Circus. Severe delays on rest of line.\n"
     ]
    }
   ],
   "source": [
    "print(parse_status_new(status_new, 'victoria',[\"Victoria\", \"Pimlico\", \"Vauxhall\", \"Stockwell\"]))"
   ]
  },
  {
   "cell_type": "code",
   "execution_count": 42,
   "id": "d2dc0784",
   "metadata": {},
   "outputs": [
    {
     "data": {
      "text/plain": [
       "'   Metropolitan    Part suspended  Severe delays    \\xa0    Metropolitan Line: No service between Wembley Park and Aldgate while we fix a signal failure at Baker Street. SEVERE DELAYS on the rest of the line. London Underground tickets are being accepted on London Buses.      '"
      ]
     },
     "execution_count": 42,
     "metadata": {},
     "output_type": "execute_result"
    }
   ],
   "source": [
    "metro_info = soup.select(\".rainbow-list-item.metropolitan\")\n",
    "status = []\n",
    "for item in metro_info:\n",
    "    status.append(item.text.replace(\"\\n\", \" \"))\n",
    "status_new = status[0].split(\"Replan your journey\")[0]\n",
    "status_new"
   ]
  },
  {
   "cell_type": "code",
   "execution_count": 43,
   "id": "4c426533",
   "metadata": {},
   "outputs": [
    {
     "name": "stdout",
     "output_type": "stream",
     "text": [
      "Metropolitan line is part suspended. Severe delays on rest of line. Your route may be affected.\n"
     ]
    }
   ],
   "source": [
    "print(parse_status_new(status_new, 'metropolitan',[\"Victoria\", \"Pimlico\", \"Vauxhall\", \"Stockwell\"]))"
   ]
  },
  {
   "cell_type": "code",
   "execution_count": null,
   "id": "0945ff67",
   "metadata": {},
   "outputs": [],
   "source": []
  }
 ],
 "metadata": {
  "kernelspec": {
   "display_name": "Python 3 (ipykernel)",
   "language": "python",
   "name": "python3"
  },
  "language_info": {
   "codemirror_mode": {
    "name": "ipython",
    "version": 3
   },
   "file_extension": ".py",
   "mimetype": "text/x-python",
   "name": "python",
   "nbconvert_exporter": "python",
   "pygments_lexer": "ipython3",
   "version": "3.10.9"
  }
 },
 "nbformat": 4,
 "nbformat_minor": 5
}
